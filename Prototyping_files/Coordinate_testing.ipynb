{
 "cells": [
  {
   "cell_type": "code",
   "execution_count": 5,
   "metadata": {},
   "outputs": [],
   "source": [
    "import numpy as np\n",
    "import netCDF4 as nc\n",
    "import os\n",
    "\n",
    "WORK_DIR = os.environ['WORK_DIR']\n",
    "\n",
    "# Example 2D arrays (replace these with your actual data)\n",
    "lat = np.array([[30.0, 30.1, np.nan], [30.2, 30.3, np.nan]])  # 2D latitude values\n",
    "lon = np.array([[60.0, 60.1, 60.2], [np.nan, 60.3, 60.4]])    # 2D longitude values\n",
    "npdata = np.arange(6).reshape(2, 3)  # Replace with your data array\n",
    "\n",
    "# Define the NetCDF file\n",
    "output_file = WORK_DIR + \"/dump/output.nc\"\n",
    "\n",
    "with nc.Dataset(output_file, 'w', format='NETCDF4') as dataset:\n",
    "    # Dimensions (based on the shape of your lat/lon grid)\n",
    "    lat_dim, lon_dim = lat.shape\n",
    "\n",
    "    # Create dimensions in the NetCDF file\n",
    "    dataset.createDimension('lat_dim', lat_dim)\n",
    "    dataset.createDimension('lon_dim', lon_dim)\n",
    "\n",
    "    # Create coordinate variables as 2D arrays\n",
    "    latitudes = dataset.createVariable('lat', 'f4', ('lat_dim', 'lon_dim'), fill_value=np.nan)\n",
    "    longitudes = dataset.createVariable('lon', 'f4', ('lat_dim', 'lon_dim'), fill_value=np.nan)\n",
    "\n",
    "    # Create the data variable\n",
    "    data_var = dataset.createVariable('data', 'f4', ('lat_dim', 'lon_dim'), fill_value=np.nan)\n",
    "\n",
    "    # Add units or any metadata if needed\n",
    "    latitudes.units = 'degrees_north'\n",
    "    longitudes.units = 'degrees_east'\n",
    "    data_var.units = 'arbitrary_unit'  # Replace with appropriate unit\n",
    "\n",
    "    # Assign values to the coordinate variables and data variable\n",
    "    latitudes[:, :] = lat\n",
    "    longitudes[:, :] = lon\n",
    "    data_var[:, :] = data\n",
    "\n",
    "    # Optional: Add global attributes\n",
    "    dataset.description = 'NetCDF file with irregular 2D lat/lon grid'\n",
    "\n",
    "# NetCDF file is now created with 2D lat/lon grid."
   ]
  },
  {
   "cell_type": "code",
   "execution_count": 9,
   "metadata": {},
   "outputs": [
    {
     "data": {
      "text/plain": [
       "array([60. , 60.1, 60.2, 60.3, 60.4,  nan])"
      ]
     },
     "execution_count": 9,
     "metadata": {},
     "output_type": "execute_result"
    }
   ],
   "source": [
    "np.unique(lat)\n",
    "np.unique(lon)"
   ]
  },
  {
   "cell_type": "code",
   "execution_count": null,
   "metadata": {},
   "outputs": [],
   "source": [
    "import numpy as np\n",
    "\n",
    "import pandas as pd\n",
    "\n",
    "import xarray as xr\n",
    "\n",
    "xdata=xr.DataArray(np.empty(data.shape),dims=('lat','lon'),cords=)"
   ]
  }
 ],
 "metadata": {
  "kernelspec": {
   "display_name": "flex_trkr_2",
   "language": "python",
   "name": "python3"
  },
  "language_info": {
   "codemirror_mode": {
    "name": "ipython",
    "version": 3
   },
   "file_extension": ".py",
   "mimetype": "text/x-python",
   "name": "python",
   "nbconvert_exporter": "python",
   "pygments_lexer": "ipython3",
   "version": "3.11.6"
  },
  "orig_nbformat": 4
 },
 "nbformat": 4,
 "nbformat_minor": 2
}
