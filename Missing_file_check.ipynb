{
 "cells": [
  {
   "cell_type": "code",
   "execution_count": 7,
   "metadata": {},
   "outputs": [
    {
     "name": "stdout",
     "output_type": "stream",
     "text": [
      "Skipping -24 to -22\n",
      "Skipping -28 to -26\n",
      "Skipping -30 to -28\n",
      "Skipping -32 to -30\n",
      "Skipping -34 to -32\n",
      "Skipping -36 to -34\n",
      "Skipping -38 to -36\n"
     ]
    }
   ],
   "source": [
    "import numpy as np\n",
    "import netCDF4 as nc\n",
    "import matplotlib.pyplot as plt\n",
    "import time\n",
    "from Helper_fun import time_intersection, generate_temp_range\n",
    "import os\n",
    "from datetime import datetime\n",
    "\n",
    "if os.environ['WORK_DIR']!='':\n",
    "    WORK_DIR=os.environ['WORK_DIR']\n",
    "job_output_dir=WORK_DIR+'/Job_output'#'/Old_results_storage/Run12.11_all_t_ranges'\n",
    "\n",
    "\n",
    "t_deltas = [2,5,10,15,38]\n",
    "min_temp_array, max_temp_array = generate_temp_range(t_deltas)\\\n",
    "\n",
    "for temp_ind in range(len(min_temp_array)):\n",
    "    min_temp, max_temp = min_temp_array[temp_ind],max_temp_array[temp_ind]\n",
    "    #Load datasets\n",
    "    try:\n",
    "        cloudtrack_fp = job_output_dir+f'/T-{abs(round(min_temp))}-{abs(round(max_temp))}/pixel_path_tracking/20040201.1415_20040201.2000/cloudtracks_20040201_183000.nc'\n",
    "        cloudtrack_data = nc.Dataset(cloudtrack_fp) \n",
    "    except: #Exception as inst:\n",
    "        print(f\"Skipping {min_temp} to {max_temp}\")\n",
    "        # print(type(inst))    # the exception type\n",
    "\n",
    "        # print(inst.args)     # arguments stored in .args\n",
    "\n",
    "        # print(inst)          # __str__ allows args to be printed directly,\n",
    "\n",
    "                            # but may be overridden in exception subclasses\n",
    "        continue"
   ]
  }
 ],
 "metadata": {
  "kernelspec": {
   "display_name": "flex_trkr_2",
   "language": "python",
   "name": "python3"
  },
  "language_info": {
   "codemirror_mode": {
    "name": "ipython",
    "version": 3
   },
   "file_extension": ".py",
   "mimetype": "text/x-python",
   "name": "python",
   "nbconvert_exporter": "python",
   "pygments_lexer": "ipython3",
   "version": "3.11.6"
  },
  "orig_nbformat": 4
 },
 "nbformat": 4,
 "nbformat_minor": 2
}
