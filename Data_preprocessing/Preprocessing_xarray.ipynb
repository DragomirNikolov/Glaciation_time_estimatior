{
 "cells": [
  {
   "cell_type": "code",
   "execution_count": null,
   "metadata": {},
   "outputs": [],
   "source": [
    "import numpy as np\n",
    "import netCDF4 as nc\n",
    "import time\n",
    "# from Helper_fun import time_intersection, generate_temp_range\n",
    "import os\n",
    "import pyproj\n",
    "\n",
    "from pyresample.geometry import SwathDefinition\n",
    "import pyresample.kd_tree as kd_tree\n",
    "from pyresample import get_area_def\n",
    "import xarray"
   ]
  },
  {
   "cell_type": "code",
   "execution_count": null,
   "metadata": {},
   "outputs": [],
   "source": [
    "cph_fp = '/cluster/work/climate/dnikolo/CLAAS_Data/02_2004/CPH/CPPin20040121084500405SVMSG01MD.nc'\n",
    "tmp_fp = '/cluster/work/climate/dnikolo/CLAAS_Data/02_2004/CTT/CTXin20040120194500405SVMSG01MD.nc'\n",
    "cph_data=xarray.open_dataset(cph_fp)"
   ]
  },
  {
   "cell_type": "code",
   "execution_count": null,
   "metadata": {},
   "outputs": [],
   "source": [
    "import matplotlib.pyplot as plt\n",
    "cph=cph_data['cph'].data\n",
    "plt.imshow(cph[0,:,:])"
   ]
  },
  {
   "cell_type": "code",
   "execution_count": null,
   "metadata": {},
   "outputs": [],
   "source": [
    "cph.shape"
   ]
  }
 ],
 "metadata": {
  "kernelspec": {
   "display_name": "flex_trkr_2",
   "language": "python",
   "name": "python3"
  },
  "language_info": {
   "codemirror_mode": {
    "name": "ipython",
    "version": 3
   },
   "file_extension": ".py",
   "mimetype": "text/x-python",
   "name": "python",
   "nbconvert_exporter": "python",
   "pygments_lexer": "ipython3",
   "version": "3.11.6"
  },
  "orig_nbformat": 4
 },
 "nbformat": 4,
 "nbformat_minor": 2
}
