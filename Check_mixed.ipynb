{
 "cells": [
  {
   "cell_type": "code",
   "execution_count": 7,
   "metadata": {},
   "outputs": [],
   "source": [
    "import numpy as np\n",
    "import netCDF4 as nc\n",
    "import matplotlib.pyplot as plt\n",
    "import time\n",
    "from Helper_fun import time_intersection, generate_temp_range\n",
    "import os\n",
    "from datetime import datetime\n",
    "import math"
   ]
  },
  {
   "cell_type": "code",
   "execution_count": 2,
   "metadata": {},
   "outputs": [],
   "source": [
    "if os.environ['WORK_DIR']!='':\n",
    "    WORK_DIR=os.environ['WORK_DIR']\n",
    "    PyFLEXTRKR_LIB_DIR= os.environ['PyFLEXTRKR_LIB_DIR']\n",
    "else:\n",
    "    raise ValueError(\"PyFLEXTRKR_LIB_DIR environmental variable is empty or doesn't exist\") \n",
    "min_temp=-35\n",
    "max_temp=-30"
   ]
  },
  {
   "cell_type": "code",
   "execution_count": 3,
   "metadata": {},
   "outputs": [],
   "source": [
    "job_output_dir=WORK_DIR+'/Job_output'#'/Old_results_storage/Run12.11_all_t_ranges'"
   ]
  },
  {
   "cell_type": "code",
   "execution_count": 4,
   "metadata": {},
   "outputs": [],
   "source": [
    "cloudtrack_fp = job_output_dir+f'/T-{abs(round(min_temp))}-{abs(round(max_temp))}/pixel_path_tracking/20040201.1415_20040201.2000/cloudtracks_20040201_183000.nc'\n",
    "\n",
    "cloudtrack_data = nc.Dataset(cloudtrack_fp) \n",
    "trackstats_data=nc.Dataset(job_output_dir+f'/T-{abs(round(min_temp))}-{abs(round(max_temp))}/stats/trackstats_final_20040201.1415_20040201.2000.nc')\n",
    "tracknumbers_data=nc.Dataset(job_output_dir+f'/T-{abs(round(min_temp))}-{abs(round(max_temp))}/stats/tracknumbers_20040201.1415_20040201.2000.nc')\n",
    "\n",
    "cloudtracknumber_field=cloudtrack_data.variables['cloudtracknumber'][:,:,:]\n",
    "cph_field=cloudtrack_data.variables['cph'][:,:,:]\n",
    "n_tracks=trackstats_data.variables['track_duration'].shape[0]\n",
    "basetimes=tracknumbers_data.variables['basetimes'][:]\n"
   ]
  },
  {
   "cell_type": "code",
   "execution_count": 5,
   "metadata": {},
   "outputs": [
    {
     "data": {
      "text/plain": [
       "30460"
      ]
     },
     "execution_count": 5,
     "metadata": {},
     "output_type": "execute_result"
    }
   ],
   "source": [
    "np.count_nonzero(cph_field)"
   ]
  },
  {
   "cell_type": "code",
   "execution_count": 11,
   "metadata": {},
   "outputs": [],
   "source": [
    "class cloud:\n",
    "    # def __new__(self, *args, **kwargs):\n",
    "    #     return super().__new__(self)\n",
    "    def __init__(self,cloud_id):\n",
    "        self.id=cloud_id\n",
    "        self.crit_fraction=0.1\n",
    "        # Bools inidicating if the cloud has been liquid at any point\n",
    "        self.is_liq: bool =False\n",
    "        self.is_mix: bool =False\n",
    "        self.is_ice: bool =False\n",
    "        # Max and min cloud size in pixels\n",
    "        self.max_size:int=0\n",
    "        self.min_size:int=0\n",
    "\n",
    "        self.max_water_fraction:float=0.0\n",
    "        self.max_ice_fraction:float=0.0\n",
    "\n",
    "        self.track_start_time: datetime=None\n",
    "        self.track_end_time: datetime=None\n",
    "        self.track_length = None\n",
    "\n",
    "        self.glaciation_start_time: datetime=None\n",
    "        self.glaciatin_end_time: datetime=None\n",
    "\n",
    "    def update_status(self,time: datetime, cloud_values: np.array):\n",
    "        cloud_size=cloud_values.shape[0]\n",
    "        if cloud_size:\n",
    "            \n",
    "            # I assume that water_frac+ice_frac=1\n",
    "            water_fraction=float(np.count_nonzero(cloud_values==1))/float(cloud_size)\n",
    "            ice_fraction=float(np.count_nonzero(cloud_values==2))/float(cloud_size)\n",
    "            if math.isclose(water_frac+ice_frac,1):\n",
    "                raise ValueError(\"Water_frac+Ice_frac != 1 ???\")\n",
    "            #print(water_fraction)\n",
    "            #print(water_fraction)\n",
    "            if not (self.track_start_time):\n",
    "                self.track_start_time=time\n",
    "\n",
    "            #Check and set type of cloud\n",
    "            if water_fraction>1-self.crit_fraction:\n",
    "                self.is_liq=True\n",
    "            elif water_fraction>self.crit_fraction:\n",
    "                self.is_mix=True\n",
    "            else:\n",
    "                self.is_ice=True\n",
    "\n",
    "            self.max_size=max(self.max_size, cloud_size)\n",
    "            self.max_water_fraction=max(self.max_water_fraction, water_fraction)\n",
    "            self.max_ice_fraction=max(self.max_ice_fraction, 1-water_fraction)\n",
    "        else:\n",
    "            if (not (self.track_end_time)) and self.track_start_time:\n",
    "                self.track_end_time=time\n",
    "                self.track_length=self.track_end_time-self.track_start_time\n",
    "        "
   ]
  },
  {
   "cell_type": "code",
   "execution_count": 12,
   "metadata": {},
   "outputs": [],
   "source": [
    "#2,5,10,15,38\n",
    "t_deltas = [5]\n",
    "min_temp_array, max_temp_array = generate_temp_range(t_deltas)"
   ]
  },
  {
   "cell_type": "code",
   "execution_count": null,
   "metadata": {},
   "outputs": [
    {
     "ename": "",
     "evalue": "",
     "output_type": "error",
     "traceback": [
      "\u001b[1;31mFailed to start the Kernel. \n",
      "\u001b[1;31mUnable to start Kernel 'flex_trkr_2 (Python 3.11.6)' due to connection timeout. \n",
      "\u001b[1;31mView Jupyter <a href='command:jupyter.viewOutput'>log</a> for further details."
     ]
    }
   ],
   "source": []
  },
  {
   "cell_type": "code",
   "execution_count": 13,
   "metadata": {},
   "outputs": [
    {
     "name": "stdout",
     "output_type": "stream",
     "text": [
      "74\n",
      "-5 to 0 Loading 20040201_141500\n"
     ]
    },
    {
     "ename": "NameError",
     "evalue": "name 'water_frac' is not defined",
     "output_type": "error",
     "traceback": [
      "\u001b[0;31m---------------------------------------------------------------------------\u001b[0m",
      "\u001b[0;31mNameError\u001b[0m                                 Traceback (most recent call last)",
      "Cell \u001b[0;32mIn[13], line 50\u001b[0m\n\u001b[1;32m     47\u001b[0m     exit\n\u001b[1;32m     49\u001b[0m cloud_values\u001b[39m=\u001b[39mcph_field[cloudtracknumber_field\u001b[39m==\u001b[39mtrack_number\u001b[39m+\u001b[39m\u001b[39m1\u001b[39m]\n\u001b[0;32m---> 50\u001b[0m current_cloud\u001b[39m.\u001b[39;49mupdate_status(time,cloud_values)\n",
      "Cell \u001b[0;32mIn[11], line 32\u001b[0m, in \u001b[0;36mcloud.update_status\u001b[0;34m(self, time, cloud_values)\u001b[0m\n\u001b[1;32m     30\u001b[0m water_fraction\u001b[39m=\u001b[39m\u001b[39mfloat\u001b[39m(np\u001b[39m.\u001b[39mcount_nonzero(cloud_values\u001b[39m==\u001b[39m\u001b[39m1\u001b[39m))\u001b[39m/\u001b[39m\u001b[39mfloat\u001b[39m(cloud_size)\n\u001b[1;32m     31\u001b[0m ice_fraction\u001b[39m=\u001b[39m\u001b[39mfloat\u001b[39m(np\u001b[39m.\u001b[39mcount_nonzero(cloud_values\u001b[39m==\u001b[39m\u001b[39m2\u001b[39m))\u001b[39m/\u001b[39m\u001b[39mfloat\u001b[39m(cloud_size)\n\u001b[0;32m---> 32\u001b[0m \u001b[39mif\u001b[39;00m math\u001b[39m.\u001b[39misclose(water_frac\u001b[39m+\u001b[39mice_frac,\u001b[39m1\u001b[39m):\n\u001b[1;32m     33\u001b[0m     \u001b[39mraise\u001b[39;00m \u001b[39mValueError\u001b[39;00m(\u001b[39m\"\u001b[39m\u001b[39mWater_frac+Ice_frac != 1 ???\u001b[39m\u001b[39m\"\u001b[39m)\n\u001b[1;32m     34\u001b[0m \u001b[39m#print(water_fraction)\u001b[39;00m\n\u001b[1;32m     35\u001b[0m \u001b[39m#print(water_fraction)\u001b[39;00m\n",
      "\u001b[0;31mNameError\u001b[0m: name 'water_frac' is not defined"
     ]
    }
   ],
   "source": [
    "\n",
    "cloud_list=[]\n",
    "\n",
    "for temp_ind in range(len(min_temp_array)):\n",
    "    min_temp, max_temp = min_temp_array[temp_ind],max_temp_array[temp_ind]\n",
    "    #Load datasets\n",
    "    try:\n",
    "        cloudtrack_fp = job_output_dir+f'/T-{abs(round(min_temp))}-{abs(round(max_temp))}/pixel_path_tracking/20040201.1415_20040201.2000/cloudtracks_20040201_183000.nc'\n",
    "        cloudtrack_data = nc.Dataset(cloudtrack_fp) \n",
    "        trackstats_data=nc.Dataset(job_output_dir+f'/T-{abs(round(min_temp))}-{abs(round(max_temp))}/stats/trackstats_final_20040201.1415_20040201.2000.nc')\n",
    "        tracknumbers_data=nc.Dataset(job_output_dir+f'/T-{abs(round(min_temp))}-{abs(round(max_temp))}/stats/tracknumbers_20040201.1415_20040201.2000.nc')\n",
    "    except: #Exception as inst:\n",
    "        print(f\"Skipping {min_temp} to {max_temp}\")\n",
    "        # print(type(inst))    # the exception type\n",
    "\n",
    "        # print(inst.args)     # arguments stored in .args\n",
    "\n",
    "        # print(inst)          # __str__ allows args to be printed directly,\n",
    "\n",
    "                            # but may be overridden in exception subclasses\n",
    "        cloud_list.append([])\n",
    "        continue\n",
    "\n",
    "    #Load relevant data from datasets into local variables\n",
    "    cloudtracknumber_field=cloudtrack_data.variables['cloudtracknumber'][:,:,:]\n",
    "    cph_field=cloudtrack_data.variables['cph'][:,:,:]\n",
    "    n_tracks=trackstats_data.variables['track_duration'].shape[0]\n",
    "    basetimes=tracknumbers_data.variables['basetimes'][:]\n",
    "    n_tracks=trackstats_data.variables['track_duration'].shape[0]\n",
    "    #FIX CLOUD TIMES\n",
    "    print(n_tracks)\n",
    "    cloud_list.append([cloud(f'{temp_ind}_{i}') for i in range(n_tracks)])\n",
    "    for unix_time in basetimes:\n",
    "        time=datetime.utcfromtimestamp(unix_time)\n",
    "        time_str=time.strftime(\"%Y%m%d_%H%M%S\")\n",
    "        print(f'{min_temp} to {max_temp} Loading {time_str}')\n",
    "        cloudtrack_fp = job_output_dir+f'/T-{abs(round(min_temp))}-{abs(round(max_temp))}/pixel_path_tracking/20040201.1415_20040201.2000/cloudtracks_{time_str}.nc'\n",
    "        cloudtrack_data = nc.Dataset(cloudtrack_fp) \n",
    "        cloudtracknumber_field=cloudtrack_data.variables['cloudtracknumber'][:,:,:]\n",
    "        cph_field=cloudtrack_data.variables['cph'][:,:,:]\n",
    "        \n",
    "        \n",
    "        for track_number in range(n_tracks):\n",
    "            try:\n",
    "                current_cloud=cloud_list[temp_ind][track_number]\n",
    "            except:\n",
    "                print(f\"Error: {temp_ind,track_number,len(cloud_list)}\")\n",
    "                exit\n",
    "\n",
    "            cloud_values=cph_field[cloudtracknumber_field==track_number+1]\n",
    "            current_cloud.update_status(time,cloud_values)\n",
    "        \n"
   ]
  },
  {
   "cell_type": "code",
   "execution_count": null,
   "metadata": {},
   "outputs": [
    {
     "data": {
      "text/plain": [
       "7"
      ]
     },
     "execution_count": 9,
     "metadata": {},
     "output_type": "execute_result"
    }
   ],
   "source": [
    "n_tracks"
   ]
  },
  {
   "cell_type": "code",
   "execution_count": null,
   "metadata": {},
   "outputs": [
    {
     "name": "stdout",
     "output_type": "stream",
     "text": [
      "Cloud max ice fraction: 0.0; Cloud max liq fraction: 1.0 \n",
      "Cloud max ice fraction: 0.0; Cloud max liq fraction: 1.0 \n",
      "Cloud max ice fraction: 0.0; Cloud max liq fraction: 1.0 \n",
      "Cloud max ice fraction: 0.0; Cloud max liq fraction: 1.0 \n",
      "Cloud max ice fraction: 0.0; Cloud max liq fraction: 1.0 \n",
      "Cloud max ice fraction: 0.0; Cloud max liq fraction: 1.0 \n",
      "Cloud max ice fraction: 0.0; Cloud max liq fraction: 1.0 \n",
      "Cloud max ice fraction: 0.0; Cloud max liq fraction: 1.0 \n",
      "Cloud max ice fraction: 0.0; Cloud max liq fraction: 1.0 \n",
      "Cloud max ice fraction: 0.0; Cloud max liq fraction: 1.0 \n",
      "Cloud max ice fraction: 0.0; Cloud max liq fraction: 1.0 \n",
      "Cloud max ice fraction: 0.0; Cloud max liq fraction: 1.0 \n",
      "Cloud max ice fraction: 0.0; Cloud max liq fraction: 1.0 \n",
      "Cloud max ice fraction: 0.0; Cloud max liq fraction: 1.0 \n",
      "Cloud max ice fraction: 0.0; Cloud max liq fraction: 1.0 \n",
      "Cloud max ice fraction: 0.0; Cloud max liq fraction: 1.0 \n",
      "Cloud max ice fraction: 0.0; Cloud max liq fraction: 1.0 \n",
      "Cloud max ice fraction: 0.0; Cloud max liq fraction: 1.0 \n",
      "Cloud max ice fraction: 0.0; Cloud max liq fraction: 1.0 \n",
      "Cloud max ice fraction: 0.0; Cloud max liq fraction: 1.0 \n",
      "Cloud max ice fraction: 0.0; Cloud max liq fraction: 1.0 \n",
      "Cloud max ice fraction: 0.0; Cloud max liq fraction: 1.0 \n",
      "Cloud max ice fraction: 0.0; Cloud max liq fraction: 1.0 \n",
      "Cloud max ice fraction: 0.0; Cloud max liq fraction: 1.0 \n",
      "Cloud max ice fraction: 0.0; Cloud max liq fraction: 1.0 \n",
      "Cloud max ice fraction: 0.0; Cloud max liq fraction: 1.0 \n",
      "Cloud max ice fraction: 0.0; Cloud max liq fraction: 1.0 \n",
      "Cloud max ice fraction: 0.0; Cloud max liq fraction: 1.0 \n",
      "Cloud max ice fraction: 0.0; Cloud max liq fraction: 1.0 \n",
      "Cloud max ice fraction: 0.0; Cloud max liq fraction: 1.0 \n",
      "Cloud max ice fraction: 0.0; Cloud max liq fraction: 1.0 \n",
      "Cloud max ice fraction: 0.0; Cloud max liq fraction: 1.0 \n",
      "Cloud max ice fraction: 0.0; Cloud max liq fraction: 1.0 \n",
      "Cloud max ice fraction: 0.0; Cloud max liq fraction: 1.0 \n",
      "Cloud max ice fraction: 0.0; Cloud max liq fraction: 1.0 \n",
      "Cloud max ice fraction: 0.0; Cloud max liq fraction: 1.0 \n",
      "Cloud max ice fraction: 0.0; Cloud max liq fraction: 1.0 \n",
      "Cloud max ice fraction: 0.0; Cloud max liq fraction: 1.0 \n",
      "Cloud max ice fraction: 0.0; Cloud max liq fraction: 1.0 \n",
      "Cloud max ice fraction: 0.0; Cloud max liq fraction: 1.0 \n",
      "Cloud max ice fraction: 0.0; Cloud max liq fraction: 1.0 \n",
      "Cloud max ice fraction: 0.0; Cloud max liq fraction: 1.0 \n",
      "Cloud max ice fraction: 0.0; Cloud max liq fraction: 1.0 \n",
      "Cloud max ice fraction: 0.0; Cloud max liq fraction: 1.0 \n",
      "Cloud max ice fraction: 0.0; Cloud max liq fraction: 1.0 \n",
      "Cloud max ice fraction: 0.0; Cloud max liq fraction: 1.0 \n",
      "Cloud max ice fraction: 0.0; Cloud max liq fraction: 1.0 \n",
      "Cloud max ice fraction: 0.0; Cloud max liq fraction: 1.0 \n",
      "Cloud max ice fraction: 0.0; Cloud max liq fraction: 1.0 \n",
      "Cloud max ice fraction: 0.0; Cloud max liq fraction: 1.0 \n",
      "Cloud max ice fraction: 0.0; Cloud max liq fraction: 1.0 \n",
      "Cloud max ice fraction: 0.0; Cloud max liq fraction: 1.0 \n",
      "Cloud max ice fraction: 0.0; Cloud max liq fraction: 1.0 \n",
      "Cloud max ice fraction: 0.0; Cloud max liq fraction: 1.0 \n",
      "Cloud max ice fraction: 0.0; Cloud max liq fraction: 1.0 \n",
      "Cloud max ice fraction: 0.0; Cloud max liq fraction: 1.0 \n",
      "Cloud max ice fraction: 0.0; Cloud max liq fraction: 1.0 \n",
      "Cloud max ice fraction: 0.0; Cloud max liq fraction: 1.0 \n",
      "Cloud max ice fraction: 0.0; Cloud max liq fraction: 1.0 \n",
      "Cloud max ice fraction: 0.0; Cloud max liq fraction: 1.0 \n",
      "Cloud max ice fraction: 0.0; Cloud max liq fraction: 1.0 \n",
      "Cloud max ice fraction: 0.0; Cloud max liq fraction: 1.0 \n",
      "Cloud max ice fraction: 0.0; Cloud max liq fraction: 1.0 \n",
      "Cloud max ice fraction: 0.0; Cloud max liq fraction: 1.0 \n",
      "Cloud max ice fraction: 0.0; Cloud max liq fraction: 1.0 \n",
      "Cloud max ice fraction: 0.0; Cloud max liq fraction: 1.0 \n",
      "Cloud max ice fraction: 0.0; Cloud max liq fraction: 1.0 \n",
      "Cloud max ice fraction: 0.0; Cloud max liq fraction: 1.0 \n",
      "Cloud max ice fraction: 0.0; Cloud max liq fraction: 1.0 \n",
      "Cloud max ice fraction: 0.0; Cloud max liq fraction: 1.0 \n",
      "Cloud max ice fraction: 0.0; Cloud max liq fraction: 1.0 \n",
      "Cloud max ice fraction: 0.0; Cloud max liq fraction: 1.0 \n",
      "Cloud max ice fraction: 0.0; Cloud max liq fraction: 1.0 \n",
      "Cloud max ice fraction: 0.0; Cloud max liq fraction: 1.0 \n",
      "Cloud max ice fraction: 0.0; Cloud max liq fraction: 1.0 \n",
      "Cloud max ice fraction: 0.04; Cloud max liq fraction: 1.0 \n",
      "Cloud max ice fraction: 0.0; Cloud max liq fraction: 1.0 \n",
      "Cloud max ice fraction: 0.0; Cloud max liq fraction: 1.0 \n",
      "Cloud max ice fraction: 0.01; Cloud max liq fraction: 1.0 \n",
      "Cloud max ice fraction: 0.0; Cloud max liq fraction: 1.0 \n",
      "Cloud max ice fraction: 0.0; Cloud max liq fraction: 1.0 \n",
      "Cloud max ice fraction: 0.0; Cloud max liq fraction: 1.0 \n",
      "Cloud max ice fraction: 0.02; Cloud max liq fraction: 1.0 \n",
      "Cloud max ice fraction: 0.0; Cloud max liq fraction: 1.0 \n",
      "Cloud max ice fraction: 0.05; Cloud max liq fraction: 1.0 \n",
      "Cloud max ice fraction: 0.0; Cloud max liq fraction: 1.0 \n",
      "Cloud max ice fraction: 0.05; Cloud max liq fraction: 1.0 \n",
      "Cloud max ice fraction: 0.0; Cloud max liq fraction: 1.0 \n",
      "Cloud max ice fraction: 0.25; Cloud max liq fraction: 0.9 \n",
      "Cloud max ice fraction: 0.03; Cloud max liq fraction: 1.0 \n",
      "Cloud max ice fraction: 0.03; Cloud max liq fraction: 1.0 \n",
      "Cloud max ice fraction: 0.1; Cloud max liq fraction: 1.0 \n",
      "Cloud max ice fraction: 0.07; Cloud max liq fraction: 1.0 \n",
      "Cloud max ice fraction: 0.0; Cloud max liq fraction: 1.0 \n",
      "Cloud max ice fraction: 0.01; Cloud max liq fraction: 1.0 \n",
      "Cloud max ice fraction: 0.02; Cloud max liq fraction: 1.0 \n",
      "Cloud max ice fraction: 0.14; Cloud max liq fraction: 0.99 \n",
      "Cloud max ice fraction: 0.0; Cloud max liq fraction: 1.0 \n",
      "Cloud max ice fraction: 0.34; Cloud max liq fraction: 0.9 \n",
      "Cloud max ice fraction: 0.04; Cloud max liq fraction: 1.0 \n",
      "Cloud max ice fraction: 0.57; Cloud max liq fraction: 0.63 \n",
      "Cloud max ice fraction: 0.33; Cloud max liq fraction: 0.92 \n",
      "Cloud max ice fraction: 0.19; Cloud max liq fraction: 0.98 \n",
      "Cloud max ice fraction: 0.27; Cloud max liq fraction: 0.87 \n",
      "Cloud max ice fraction: 0.37; Cloud max liq fraction: 0.86 \n",
      "N glaciations: 0; N only cirrus: 0; N only liquid: 1; N only mix: 3; N ice at some point: 0\n"
     ]
    }
   ],
   "source": [
    "\n",
    "n_track_arr=np.empty(len(min_temp_array))\n",
    "n_glac_arr=np.empty(len(min_temp_array))\n",
    "\n",
    "for i in range(len(cloud_list)):\n",
    "    n_track_arr[i]=len(cloud_list[i])\n",
    "\n",
    "    glaciation_counter=0\n",
    "    only_ice_counter=0\n",
    "    only_mix_counter=0\n",
    "    only_liq_counter=0\n",
    "    cirrus_counter=0\n",
    "    for cloud in cloud_list[i]:\n",
    "        print(f\"Cloud max ice fraction: {round(cloud.max_ice_fraction,2)}; Cloud max liq fraction: {round(cloud.max_water_fraction,2)} \" )\n",
    "        if cloud.is_liq+cloud.is_mix+cloud.is_ice==3:\n",
    "            glaciation_counter+=1\n",
    "        if (not (cloud.is_liq or cloud.is_mix) ) and cloud.is_ice:\n",
    "            cirrus_counter+=1\n",
    "        if (not (cloud.is_ice or cloud.is_mix) ) and cloud.is_liq:\n",
    "            only_liq_counter+=1\n",
    "        if (not (cloud.is_liq or cloud.is_ice) ) and cloud.is_mix:\n",
    "            only_mix_counter+=1\n",
    "        if cloud.is_ice:\n",
    "            only_ice_counter+=1\n",
    "    n_glac_arr[i]=only_mix_counter# glaciations\n",
    "        \n",
    "print(f\"N glaciations: {glaciation_counter}; N only cirrus: {cirrus_counter}; N only liquid: {only_liq_counter}; N only mix: {only_mix_counter}; N ice at some point: {only_ice_counter}\")"
   ]
  },
  {
   "attachments": {},
   "cell_type": "markdown",
   "metadata": {},
   "source": [
    "Used for testing"
   ]
  },
  {
   "cell_type": "code",
   "execution_count": null,
   "metadata": {},
   "outputs": [
    {
     "ename": "",
     "evalue": "",
     "output_type": "error",
     "traceback": [
      "\u001b[1;31mFailed to start the Kernel. \n",
      "\u001b[1;31mUnable to start Kernel 'flex_trkr_2 (Python 3.11.6)' due to connection timeout. \n",
      "\u001b[1;31mView Jupyter <a href='command:jupyter.viewOutput'>log</a> for further details."
     ]
    }
   ],
   "source": [
    "# from datetime import datetime, timedelta\n",
    "\n",
    "# # Function to generate time strings\n",
    "# def iterate_time(start_date, end_date):\n",
    "#     current_time = start_date\n",
    "#     while current_time <= end_date:\n",
    "#         # Format the time as YYYYMODD_HHMMSS\n",
    "#         time_str = current_time.strftime(\"%Y%m%d_%H%M%S\")\n",
    "#         print(time_str)\n",
    "#         # Increment the time by 15 minutes\n",
    "#         current_time += timedelta(minutes=15)\n",
    "\n",
    "# # Example usage\n",
    "# start_date = datetime(2024, 10, 15, 9, 0, 0)  # Example start date: 15th Oct 2024, 9:00:00\n",
    "# end_date = datetime(2024, 10, 15, 12, 0, 0)    # Example end date: 15th Oct 2024, 12:00:00\n",
    "\n",
    "# iterate_time(start_date, end_date)\n",
    "\n",
    "\n"
   ]
  },
  {
   "cell_type": "code",
   "execution_count": null,
   "metadata": {},
   "outputs": [
    {
     "data": {
      "image/png": "[encoded data removed]",
      "text/plain": [
       "<Figure size 1000x600 with 1 Axes>"
      ]
     },
     "metadata": {},
     "output_type": "display_data"
    }
   ],
   "source": [
    "import matplotlib.pyplot as plt\n",
    "# Create labels for the x-axis (temperature ranges)\n",
    "\n",
    "\n",
    "labels = [f\"{min_temp_array[i]} to {max_temp_array[i]}\" for i in range(len(min_temp_array))]\n",
    "\n",
    "# Create the bar graph\n",
    "plt.figure(figsize=(10,6))\n",
    "plt.bar(labels, n_track_arr[np.where(max_temp_array-min_temp_array==5)], color='skyblue',label=\"N tracks\")\n",
    "plt.bar(labels, n_glac_arr[np.where(max_temp_array-min_temp_array==5)], color='lightcoral',label=\"N glaciations\")\n",
    "\n",
    "# Add title and labels\n",
    "plt.title('Number Distribution Across Temperature Ranges', fontsize=14, fontweight='bold')\n",
    "plt.xlabel('Temperature Range (°C)', fontsize=12)\n",
    "plt.ylabel('Cloud track number', fontsize=12)\n",
    "\n",
    "# Rotate x-axis labels for better readability\n",
    "plt.xticks(rotation=45)\n",
    "\n",
    "# Add gridlines for better visualization\n",
    "plt.grid(axis='y', linestyle='--', alpha=0.7)\n",
    "\n",
    "# Show the plot\n",
    "plt.tight_layout()\n",
    "# plt.savefig(f'/net/n2o/wolke_scratch/dnikolo/Glaciation_time_estimatior/Result_graphs/TEST_track_distribution_dt5.png',dpi=400)\n",
    "plt.show()"
   ]
  },
  {
   "cell_type": "code",
   "execution_count": null,
   "metadata": {},
   "outputs": [
    {
     "ename": "",
     "evalue": "",
     "output_type": "error",
     "traceback": [
      "\u001b[1;31mFailed to start the Kernel. \n",
      "\u001b[1;31mUnable to start Kernel 'flex_trkr_2 (Python 3.11.6)' due to connection timeout. \n",
      "\u001b[1;31mView Jupyter <a href='command:jupyter.viewOutput'>log</a> for further details."
     ]
    }
   ],
   "source": [
    "basetimes=tracknumbers_data.variables['basetimes'][:]"
   ]
  },
  {
   "cell_type": "code",
   "execution_count": null,
   "metadata": {},
   "outputs": [
    {
     "ename": "",
     "evalue": "",
     "output_type": "error",
     "traceback": [
      "\u001b[1;31mFailed to start the Kernel. \n",
      "\u001b[1;31mUnable to start Kernel 'flex_trkr_2 (Python 3.11.6)' due to connection timeout. \n",
      "\u001b[1;31mView Jupyter <a href='command:jupyter.viewOutput'>log</a> for further details."
     ]
    }
   ],
   "source": [
    "time_str=datetime.fromtimestamp(basetimes[0])\n",
    "time_str.strftime(\"%Y%m%d_%H%M%S\")"
   ]
  },
  {
   "cell_type": "code",
   "execution_count": null,
   "metadata": {},
   "outputs": [
    {
     "ename": "",
     "evalue": "",
     "output_type": "error",
     "traceback": [
      "\u001b[1;31mFailed to start the Kernel. \n",
      "\u001b[1;31mUnable to start Kernel 'flex_trkr_2 (Python 3.11.6)' due to connection timeout. \n",
      "\u001b[1;31mView Jupyter <a href='command:jupyter.viewOutput'>log</a> for further details."
     ]
    }
   ],
   "source": [
    "tracknumbers_data.variables['basetimes'][:]"
   ]
  },
  {
   "cell_type": "code",
   "execution_count": null,
   "metadata": {},
   "outputs": [
    {
     "ename": "",
     "evalue": "",
     "output_type": "error",
     "traceback": [
      "\u001b[1;31mFailed to start the Kernel. \n",
      "\u001b[1;31mUnable to start Kernel 'flex_trkr_2 (Python 3.11.6)' due to connection timeout. \n",
      "\u001b[1;31mView Jupyter <a href='command:jupyter.viewOutput'>log</a> for further details."
     ]
    }
   ],
   "source": [
    "tracknumbers_data.variables"
   ]
  },
  {
   "cell_type": "code",
   "execution_count": null,
   "metadata": {},
   "outputs": [
    {
     "ename": "",
     "evalue": "",
     "output_type": "error",
     "traceback": [
      "\u001b[1;31mFailed to start the Kernel. \n",
      "\u001b[1;31mUnable to start Kernel 'flex_trkr_2 (Python 3.11.6)' due to connection timeout. \n",
      "\u001b[1;31mView Jupyter <a href='command:jupyter.viewOutput'>log</a> for further details."
     ]
    }
   ],
   "source": [
    "tracknumbers_data.variables['ntracks']"
   ]
  },
  {
   "cell_type": "code",
   "execution_count": null,
   "metadata": {},
   "outputs": [
    {
     "ename": "",
     "evalue": "",
     "output_type": "error",
     "traceback": [
      "\u001b[1;31mFailed to start the Kernel. \n",
      "\u001b[1;31mUnable to start Kernel 'flex_trkr_2 (Python 3.11.6)' due to connection timeout. \n",
      "\u001b[1;31mView Jupyter <a href='command:jupyter.viewOutput'>log</a> for further details."
     ]
    }
   ],
   "source": [
    "print(tracknumbers_data.variables['ntracks'][:])"
   ]
  }
 ],
 "metadata": {
  "kernelspec": {
   "display_name": "Python 3 (ipykernel)",
   "language": "python",
   "name": "python3"
  },
  "language_info": {
   "codemirror_mode": {
    "name": "ipython",
    "version": 3
   },
   "file_extension": ".py",
   "mimetype": "text/x-python",
   "name": "python",
   "nbconvert_exporter": "python",
   "pygments_lexer": "ipython3",
   "version": "3.11.6"
  }
 },
 "nbformat": 4,
 "nbformat_minor": 4
}
