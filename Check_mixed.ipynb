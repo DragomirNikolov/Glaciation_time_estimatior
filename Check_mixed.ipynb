{
 "cells": [
  {
   "cell_type": "code",
   "execution_count": 1,
   "metadata": {},
   "outputs": [],
   "source": [
    "import numpy as np\n",
    "import netCDF4 as nc\n",
    "import matplotlib.pyplot as plt\n",
    "import time\n",
    "from Helper_fun import time_intersection\n",
    "import os"
   ]
  },
  {
   "cell_type": "code",
   "execution_count": 2,
   "metadata": {},
   "outputs": [],
   "source": [
    "if os.environ['WORK_DIR']!='':\n",
    "    WORK_DIR=os.environ['WORK_DIR']\n",
    "    PyFLEXTRKR_LIB_DIR= os.environ['PyFLEXTRKR_LIB_DIR']\n",
    "else:\n",
    "    raise ValueError(\"PyFLEXTRKR_LIB_DIR environmental variable is empty or doesn't exist\") \n",
    "min_temp=-15\n",
    "max_temp=-10"
   ]
  },
  {
   "cell_type": "code",
   "execution_count": 3,
   "metadata": {},
   "outputs": [],
   "source": [
    "tracknumbers_data=nc.Dataset(f'/cluster/work/climate/dnikolo/Job_output/T-{abs(round(min_temp))}-{abs(round(max_temp))}/stats/tracknumbers_20040201.1415_20040201.2000.nc')\n",
    "trackstats_data=nc.Dataset(f'/cluster/work/climate/dnikolo/Job_output/T-{abs(round(min_temp))}-{abs(round(max_temp))}/stats/trackstats_final_20040201.1415_20040201.2000.nc')"
   ]
  },
  {
   "cell_type": "code",
   "execution_count": 4,
   "metadata": {},
   "outputs": [],
   "source": [
    "cloudtrack_fp = WORK_DIR+f'/Job_output/T-{abs(round(min_temp))}-{abs(round(max_temp))}/pixel_path_tracking/20040201.1415_20040201.2000/cloudtracks_20040201_183000.nc'\n",
    "cloudtrack_data = nc.Dataset(cloudtrack_fp) \n",
    "cloudtracknumber_field=cloudtrack_data.variables['cloudtracknumber'][:,:,:]\n",
    "cph_field=cloudtrack_data.variables['cph'][:,:,:]\n",
    "n_tracks=trackstats_data.variables['track_duration'].shape[0]\n"
   ]
  },
  {
   "cell_type": "code",
   "execution_count": 5,
   "metadata": {},
   "outputs": [
    {
     "data": {
      "text/plain": [
       "76950"
      ]
     },
     "execution_count": 5,
     "metadata": {},
     "output_type": "execute_result"
    }
   ],
   "source": [
    "np.count_nonzero(cph_field)"
   ]
  },
  {
   "cell_type": "code",
   "execution_count": 17,
   "metadata": {},
   "outputs": [
    {
     "name": "stdout",
     "output_type": "stream",
     "text": [
      "76950\n",
      "1: Water= 11545  Ice= 0\n",
      "2: Water= 6090  Ice= 0\n",
      "3: Water= 2841  Ice= 0\n",
      "5: Water= 961  Ice= 0\n",
      "6: Water= 1938  Ice= 0\n",
      "7: Water= 76  Ice= 0\n",
      "8: Water= 815  Ice= 0\n",
      "9: Water= 103  Ice= 0\n",
      "12: Water= 629  Ice= 0\n",
      "14: Water= 311  Ice= 0\n",
      "18: Water= 337  Ice= 0\n",
      "22: Water= 314  Ice= 0\n",
      "24: Water= 855  Ice= 0\n",
      "28: Water= 459  Ice= 0\n",
      "29: Water= 428  Ice= 0\n",
      "30: Water= 275  Ice= 0\n",
      "32: Water= 964  Ice= 0\n",
      "34: Water= 109  Ice= 0\n",
      "35: Water= 352  Ice= 0\n",
      "36: Water= 82  Ice= 0\n",
      "37: Water= 322  Ice= 0\n",
      "38: Water= 311  Ice= 0\n",
      "39: Water= 2229  Ice= 0\n",
      "40: Water= 374  Ice= 0\n",
      "41: Water= 158  Ice= 0\n",
      "42: Water= 346  Ice= 0\n",
      "43: Water= 778  Ice= 0\n",
      "44: Water= 121  Ice= 0\n"
     ]
    }
   ],
   "source": [
    "n_tracks=trackstats_data.variables['track_duration'].shape[0]\n",
    "print(np.count_nonzero(cph_field))\n",
    "is_liq=np.zeros((n_tracks), dtype=bool)\n",
    "is_mix=np.zeros((n_tracks), dtype=bool)\n",
    "is_ice=np.zeros((n_tracks), dtype=bool)\n",
    "\n",
    "for track_number in range(n_tracks):\n",
    "    current_cloud=cph_field[cloudtracknumber_field==track_number]\n",
    "    cloud_size=current_cloud.shape[0]\n",
    "    if cloud_size!=0:\n",
    "        water_content=np.count_nonzero(current_cloud==1)\n",
    "        ice_content=np.count_nonzero(current_cloud==2)\n",
    "        print(f'{track_number}: Water=',water_content,' Ice=',ice_content)\n",
    "        if water_content/cloud_size>0.9:\n",
    "            is_liq[track_number]=True\n",
    "        elif water_content/cloud_size>0.1:\n",
    "            is_liq[track_number]=True\n",
    "        if ice_content>0.9:\n",
    "            is_ice[track_number]=True\n"
   ]
  },
  {
   "attachments": {},
   "cell_type": "markdown",
   "metadata": {},
   "source": [
    "Used for testing"
   ]
  },
  {
   "cell_type": "code",
   "execution_count": null,
   "metadata": {},
   "outputs": [
    {
     "data": {
      "text/plain": [
       "{'ntracks': <class 'netCDF4._netCDF4.Variable'>\n",
       " int32 ntracks(time)\n",
       "     long_name: number of cloud tracks\n",
       "     units: unitless\n",
       " unlimited dimensions: \n",
       " current shape = (1,)\n",
       " filling on, default _FillValue of -2147483647 used,\n",
       " 'basetimes': <class 'netCDF4._netCDF4.Variable'>\n",
       " int32 basetimes(nfiles)\n",
       "     long_name: epoch time (seconds since 01/01/1970 00:00) of cloudid_files\n",
       "     standard_name: time\n",
       "     units: seconds since 1970-01-01\n",
       "     calendar: proleptic_gregorian\n",
       " unlimited dimensions: \n",
       " current shape = (24,)\n",
       " filling on, default _FillValue of -2147483647 used,\n",
       " 'cloudid_files': <class 'netCDF4._netCDF4.Variable'>\n",
       " |S1 cloudid_files(nfiles, ncharacters, string1)\n",
       "     long_name: filename of each cloudid file used during tracking\n",
       "     units: unitless\n",
       " unlimited dimensions: \n",
       " current shape = (24, 26, 1)\n",
       " filling on, default _FillValue of \u0000 used,\n",
       " 'track_numbers': <class 'netCDF4._netCDF4.Variable'>\n",
       " int32 track_numbers(time, nfiles, nclouds)\n",
       "     _FillValue: -9999\n",
       "     long_name: cloud track number\n",
       "     usage: size: 1 by time by number of clouds. Each column represents a cloudid file (time dimension). Each row represents a cloud in that file (ex. row 0=cloud 1, row 1000=cloud 1001) through time. The values indicate the track that cloud is in. This follows the largest cloud in mergers and splits.\n",
       "     units: unitless\n",
       "     valid_min: 1\n",
       "     valid_max: 1016\n",
       " unlimited dimensions: \n",
       " current shape = (1, 24, 300)\n",
       " filling on,\n",
       " 'track_status': <class 'netCDF4._netCDF4.Variable'>\n",
       " int32 track_status(time, nfiles, nclouds)\n",
       "     _FillValue: -9999\n",
       "     long_name: Flag indicating evolution / behavior for each cloud in a track\n",
       "     units: unitless\n",
       "     valid_min: 0\n",
       "     valid_max: 65\n",
       " unlimited dimensions: \n",
       " current shape = (1, 24, 300)\n",
       " filling on,\n",
       " 'track_mergenumbers': <class 'netCDF4._netCDF4.Variable'>\n",
       " int32 track_mergenumbers(time, nfiles, nclouds)\n",
       "     _FillValue: -9999\n",
       "     long_name: Number of the track that this small cloud merges into\n",
       "     usage: size: 1 by time by number of clouds. Each column represents a cloudid file (time dimension). Each row represets a cloud in that file through time. Values give the track number associated with the small clouds in mergers.\n",
       "     units: unitless\n",
       "     valid_min: 1\n",
       "     valid_max: 1016\n",
       " unlimited dimensions: \n",
       " current shape = (1, 24, 300)\n",
       " filling on,\n",
       " 'track_splitnumbers': <class 'netCDF4._netCDF4.Variable'>\n",
       " int32 track_splitnumbers(time, nfiles, nclouds)\n",
       "     _FillValue: -9999\n",
       "     long_name: Number of the track that this small cloud splits from\n",
       "     usage: size: 1 by time by number of clouds. Each column represents a cloudid file (time). Each row represets a cloud in that file through time. Values give the track number associated with the small clouds in the split\n",
       "     units: unitless\n",
       "     valid_min: 1\n",
       "     valid_max: 1016\n",
       " unlimited dimensions: \n",
       " current shape = (1, 24, 300)\n",
       " filling on,\n",
       " 'track_reset': <class 'netCDF4._netCDF4.Variable'>\n",
       " int32 track_reset(time, nfiles, nclouds)\n",
       "     _FillValue: -9999\n",
       "     long_name: flag of track starts and abrupt track stops\n",
       "     usage: Each row represents a cloudid file. Each column represents a cloud in that file. Numbers indicate if the track started or adruptly ended during this file.\n",
       "     values: 0=Track starts and ends within a period of continuous data. 1=Track starts as the first file in the data set or after a data gap. 2=Track ends because data ends or gap in data.\n",
       "     units: unitless\n",
       "     valid_min: 0\n",
       "     valid_max: 2\n",
       " unlimited dimensions: \n",
       " current shape = (1, 24, 300)\n",
       " filling on,\n",
       " 'time': <class 'netCDF4._netCDF4.Variable'>\n",
       " int32 time(time)\n",
       " unlimited dimensions: \n",
       " current shape = (1,)\n",
       " filling on, default _FillValue of -2147483647 used,\n",
       " 'nfiles': <class 'netCDF4._netCDF4.Variable'>\n",
       " int32 nfiles(nfiles)\n",
       " unlimited dimensions: \n",
       " current shape = (24,)\n",
       " filling on, default _FillValue of -2147483647 used,\n",
       " 'nclouds': <class 'netCDF4._netCDF4.Variable'>\n",
       " int32 nclouds(nclouds)\n",
       " unlimited dimensions: \n",
       " current shape = (300,)\n",
       " filling on, default _FillValue of -2147483647 used,\n",
       " 'ncharacters': <class 'netCDF4._netCDF4.Variable'>\n",
       " int32 ncharacters(ncharacters)\n",
       " unlimited dimensions: \n",
       " current shape = (26,)\n",
       " filling on, default _FillValue of -2147483647 used}"
      ]
     },
     "execution_count": 7,
     "metadata": {},
     "output_type": "execute_result"
    }
   ],
   "source": [
    "tracknumbers_data.variables"
   ]
  },
  {
   "cell_type": "code",
   "execution_count": null,
   "metadata": {},
   "outputs": [
    {
     "data": {
      "text/plain": [
       "<class 'netCDF4._netCDF4.Variable'>\n",
       "int32 ntracks(time)\n",
       "    long_name: number of cloud tracks\n",
       "    units: unitless\n",
       "unlimited dimensions: \n",
       "current shape = (1,)\n",
       "filling on, default _FillValue of -2147483647 used"
      ]
     },
     "execution_count": 8,
     "metadata": {},
     "output_type": "execute_result"
    }
   ],
   "source": [
    "tracknumbers_data.variables['ntracks']"
   ]
  },
  {
   "cell_type": "code",
   "execution_count": null,
   "metadata": {},
   "outputs": [
    {
     "name": "stdout",
     "output_type": "stream",
     "text": [
      "[1017]\n"
     ]
    }
   ],
   "source": [
    "print(tracknumbers_data.variables['ntracks'][:])"
   ]
  }
 ],
 "metadata": {
  "kernelspec": {
   "display_name": "flex_trkr_2",
   "language": "python",
   "name": "python3"
  },
  "language_info": {
   "codemirror_mode": {
    "name": "ipython",
    "version": 3
   },
   "file_extension": ".py",
   "mimetype": "text/x-python",
   "name": "python",
   "nbconvert_exporter": "python",
   "pygments_lexer": "ipython3",
   "version": "3.11.6"
  },
  "orig_nbformat": 4
 },
 "nbformat": 4,
 "nbformat_minor": 2
}
